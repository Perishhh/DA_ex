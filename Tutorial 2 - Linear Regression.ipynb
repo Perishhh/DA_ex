{
 "cells": [
  {
   "cell_type": "markdown",
   "metadata": {},
   "source": [
    "# Linear Regression\n",
    "Cenying (Tracy) Yang (cenying.yang@cityu.edu.hk)\n",
    "\n",
    "Department of Information Systems\n",
    "\n",
    "City University of Hong Kong"
   ]
  },
  {
   "cell_type": "markdown",
   "metadata": {},
   "source": [
    "## 1. Data"
   ]
  },
  {
   "cell_type": "code",
   "execution_count": 1,
   "metadata": {},
   "outputs": [],
   "source": [
    "import pandas as pd\n",
    "import numpy as np"
   ]
  },
  {
   "cell_type": "code",
   "execution_count": 2,
   "metadata": {},
   "outputs": [],
   "source": [
    "# import airbnb data\n",
    "airbnb = pd.read_csv('airbnb.csv')"
   ]
  },
  {
   "cell_type": "code",
   "execution_count": 3,
   "metadata": {},
   "outputs": [
    {
     "name": "stdout",
     "output_type": "stream",
     "text": [
      "   NameLen               Style  Price  Cancellation  Stars  Reviews  \\\n",
      "0       43  entire condominium    154             0    4.5        2   \n",
      "1       44        entire house    110             0    5.0       28   \n",
      "2       50         entire loft     74             1    4.5        2   \n",
      "3       33   entire guesthouse    135             0    5.0       12   \n",
      "4       15  entire condominium     90             1    4.5       18   \n",
      "\n",
      "   Superhost  Guests  Bedrooms  Beds  Baths  DescLen  Amenities  Latitude  \\\n",
      "0          0       4         2     3    2.0      340         12  35.68795   \n",
      "1          1       4         2     2    1.0      492         42  35.68669   \n",
      "2          0       2         1     1    1.0      460         15  35.67155   \n",
      "3          1       2         1     1    1.0      404         35  35.69268   \n",
      "4          0       2         1     1    1.0      368          7  35.68672   \n",
      "\n",
      "   Longitude  PlazaDist  CanyonRdDist  CapitolDist  OperaDist  AirportDist  \n",
      "0 -105.93688   0.119008      0.776124     0.436797   5.306902    11.632054  \n",
      "1 -105.95508   1.146631      1.923802     1.106355   5.376815    10.462934  \n",
      "2 -105.95917   1.801923      2.275605     1.538425   6.450122     9.763511  \n",
      "3 -105.94403   0.526447      1.368862     0.777972   4.937623    11.332211  \n",
      "4 -105.94784   0.646551      1.435887     0.640713   5.345928    10.911138  \n"
     ]
    }
   ],
   "source": [
    "# print out the first 5 rows of the data\n",
    "print(airbnb.head())"
   ]
  },
  {
   "cell_type": "code",
   "execution_count": 4,
   "metadata": {},
   "outputs": [
    {
     "name": "stdout",
     "output_type": "stream",
     "text": [
      "count     99.000000\n",
      "mean     170.050505\n",
      "std      110.452444\n",
      "min       35.000000\n",
      "25%      101.500000\n",
      "50%      131.000000\n",
      "75%      199.000000\n",
      "max      744.000000\n",
      "Name: Price, dtype: float64\n"
     ]
    },
    {
     "data": {
      "text/plain": [
       "array([[<AxesSubplot:title={'center':'Price'}>]], dtype=object)"
      ]
     },
     "execution_count": 4,
     "metadata": {},
     "output_type": "execute_result"
    },
    {
     "data": {
      "image/png": "[encoded data removed]",
      "text/plain": [
       "<Figure size 432x288 with 1 Axes>"
      ]
     },
     "metadata": {
      "needs_background": "light"
     },
     "output_type": "display_data"
    }
   ],
   "source": [
    "# check the summary statistics and the distribution of the variable Price\n",
    "print(airbnb['Price'].describe())\n",
    "airbnb.hist('Price', bins = 100)"
   ]
  },
  {
   "cell_type": "code",
   "execution_count": 5,
   "metadata": {},
   "outputs": [
    {
     "data": {
      "text/plain": [
       "array([[<AxesSubplot:title={'center':'log_Price'}>]], dtype=object)"
      ]
     },
     "execution_count": 5,
     "metadata": {},
     "output_type": "execute_result"
    },
    {
     "data": {
      "image/png": "[encoded data removed]",
      "text/plain": [
       "<Figure size 432x288 with 1 Axes>"
      ]
     },
     "metadata": {
      "needs_background": "light"
     },
     "output_type": "display_data"
    }
   ],
   "source": [
    "# since the distribution is right skewed, we need to take log transformation of the variable\n",
    "airbnb['log_Price'] = np.log(airbnb['Price'])\n",
    "airbnb.hist('log_Price', bins = 50)"
   ]
  },
  {
   "cell_type": "code",
   "execution_count": 6,
   "metadata": {},
   "outputs": [
    {
     "name": "stdout",
     "output_type": "stream",
     "text": [
      "Superhost\n",
      "0    5.115792\n",
      "1    4.892377\n",
      "Name: log_Price, dtype: float64\n"
     ]
    }
   ],
   "source": [
    "# average log price for superhost vs non superhost\n",
    "group_by_superhost = airbnb.groupby('Superhost')['log_Price'].mean()\n",
    "print(group_by_superhost)"
   ]
  },
  {
   "cell_type": "code",
   "execution_count": 7,
   "metadata": {},
   "outputs": [
    {
     "name": "stdout",
     "output_type": "stream",
     "text": [
      "Bedrooms\n",
      "0    4.670109\n",
      "1    4.794342\n",
      "2    5.346705\n",
      "3    5.712909\n",
      "4    6.612041\n",
      "Name: log_Price, dtype: float64\n"
     ]
    }
   ],
   "source": [
    "# average log price for different # of bedrooms\n",
    "group_by_bedroom = airbnb.groupby('Bedrooms')['log_Price'].mean()\n",
    "print(group_by_bedroom)"
   ]
  },
  {
   "cell_type": "code",
   "execution_count": 8,
   "metadata": {},
   "outputs": [
    {
     "data": {
      "text/plain": [
       "<AxesSubplot:xlabel='PlazaDist', ylabel='log_Price'>"
      ]
     },
     "execution_count": 8,
     "metadata": {},
     "output_type": "execute_result"
    },
    {
     "data": {
      "image/png": "[encoded data removed]",
      "text/plain": [
       "<Figure size 432x288 with 1 Axes>"
      ]
     },
     "metadata": {
      "needs_background": "light"
     },
     "output_type": "display_data"
    }
   ],
   "source": [
    "# Check correlation between log price and distance to plaza\n",
    "# a scatter plot of log price and distance to plaza\n",
    "airbnb.plot.scatter(x = 'PlazaDist', y = 'log_Price')"
   ]
  },
  {
   "cell_type": "code",
   "execution_count": 9,
   "metadata": {},
   "outputs": [
    {
     "data": {
      "text/plain": [
       "<AxesSubplot:xlabel='Stars', ylabel='log_Price'>"
      ]
     },
     "execution_count": 9,
     "metadata": {},
     "output_type": "execute_result"
    },
    {
     "data": {
      "image/png": "[encoded data removed]",
      "text/plain": [
       "<Figure size 432x288 with 1 Axes>"
      ]
     },
     "metadata": {
      "needs_background": "light"
     },
     "output_type": "display_data"
    }
   ],
   "source": [
    "# Check correlation between log price and review stars\n",
    "# a scatter plot of log price and stars\n",
    "airbnb.plot.scatter(x = 'Stars', y = 'log_Price')"
   ]
  },
  {
   "cell_type": "markdown",
   "metadata": {},
   "source": [
    "## 2. Linear regression"
   ]
  },
  {
   "cell_type": "markdown",
   "metadata": {},
   "source": [
    "#### scikit-learn (also known as sklearn) is a library featuring various classification, regression and clustering algorithms including linear regression, decision tree, k-means, etc."
   ]
  },
  {
   "cell_type": "code",
   "execution_count": 10,
   "metadata": {},
   "outputs": [],
   "source": [
    "from sklearn import metrics, linear_model, model_selection"
   ]
  },
  {
   "cell_type": "code",
   "execution_count": 11,
   "metadata": {},
   "outputs": [
    {
     "data": {
      "text/plain": [
       "array(['NameLen', 'Style', 'Price', 'Cancellation', 'Stars', 'Reviews',\n",
       "       'Superhost', 'Guests', 'Bedrooms', 'Beds', 'Baths', 'DescLen',\n",
       "       'Amenities', 'Latitude', 'Longitude', 'PlazaDist', 'CanyonRdDist',\n",
       "       'CapitolDist', 'OperaDist', 'AirportDist', 'log_Price'],\n",
       "      dtype=object)"
      ]
     },
     "execution_count": 11,
     "metadata": {},
     "output_type": "execute_result"
    }
   ],
   "source": [
    "# check column names\n",
    "airbnb.columns.values"
   ]
  },
  {
   "cell_type": "code",
   "execution_count": 12,
   "metadata": {},
   "outputs": [
    {
     "name": "stdout",
     "output_type": "stream",
     "text": [
      "(99, 16)\n",
      "(99,)\n"
     ]
    }
   ],
   "source": [
    "# prepare X and y\n",
    "X = airbnb[['NameLen','Cancellation', 'Stars', 'Reviews','Superhost', 'Guests', 'Bedrooms', 'Beds', 'Baths', 'DescLen',\n",
    "           'Amenities', 'PlazaDist', 'CanyonRdDist','CapitolDist', 'OperaDist', 'AirportDist']].values\n",
    "y = airbnb['log_Price'].values\n",
    "print(X.shape)\n",
    "print(y.shape)"
   ]
  },
  {
   "cell_type": "code",
   "execution_count": 14,
   "metadata": {},
   "outputs": [
    {
     "name": "stdout",
     "output_type": "stream",
     "text": [
      "Training size:  (79,)\n",
      "Testing size:  (20,)\n"
     ]
    }
   ],
   "source": [
    "# split data into 80% training and 20% testing\n",
    "X_train, X_test, y_train, y_test = model_selection.train_test_split(X, y,test_size=0.2, random_state=42)\n",
    "print('Training size: ', y_train.shape)\n",
    "print('Testing size: ', y_test.shape)"
   ]
  },
  {
   "cell_type": "code",
   "execution_count": 15,
   "metadata": {},
   "outputs": [],
   "source": [
    "# run linear regression\n",
    "linreg = linear_model.LinearRegression()\n",
    "linreg_fit = linreg.fit(X_train, y_train)"
   ]
  },
  {
   "cell_type": "code",
   "execution_count": 16,
   "metadata": {},
   "outputs": [
    {
     "name": "stdout",
     "output_type": "stream",
     "text": [
      "[ 2.49472159e-03 -1.98443082e-01  3.87446406e-01 -5.75954640e-04\n",
      "  1.71985578e-02  1.32126038e-01  9.30266062e-02 -1.29911323e-01\n",
      "  3.73943060e-01  5.80758834e-05 -6.39213528e-04 -9.38386794e-02\n",
      " -7.10385671e-02  1.05143287e-02  9.48292245e-02  4.47717987e-02]\n"
     ]
    }
   ],
   "source": [
    "# check coefficients\n",
    "print(linreg_fit.coef_)"
   ]
  },
  {
   "cell_type": "code",
   "execution_count": 17,
   "metadata": {},
   "outputs": [
    {
     "name": "stdout",
     "output_type": "stream",
     "text": [
      "Training error:  0.061598691162213205\n",
      "Testing error:  0.0654409653093404\n"
     ]
    }
   ],
   "source": [
    "# use mean square error (mse) to evaluate the model\n",
    "train_predict = linreg_fit.predict(X_train)\n",
    "test_predict = linreg_fit.predict(X_test)\n",
    "mse_train = metrics.mean_squared_error(y_true=y_train, y_pred=train_predict)\n",
    "mse_test = metrics.mean_squared_error(y_true=y_test, y_pred=test_predict)\n",
    "print('Training error: ', mse_train)\n",
    "print('Testing error: ', mse_test)"
   ]
  },
  {
   "cell_type": "markdown",
   "metadata": {},
   "source": [
    "## 3. Regularized linear regression"
   ]
  },
  {
   "cell_type": "code",
   "execution_count": 18,
   "metadata": {},
   "outputs": [],
   "source": [
    "# use default alpha value to run ridge\n",
    "ridge = linear_model.Ridge()\n",
    "ridge_fit = ridge.fit(X_train, y_train)"
   ]
  },
  {
   "cell_type": "code",
   "execution_count": 19,
   "metadata": {},
   "outputs": [
    {
     "name": "stdout",
     "output_type": "stream",
     "text": [
      "[ 2.36283307e-03 -1.80502266e-01  2.50033496e-01 -7.53415251e-04\n",
      "  2.64320660e-02  1.24595458e-01  1.09836831e-01 -1.04604974e-01\n",
      "  3.09597478e-01  6.04683022e-05 -1.72234081e-04 -7.50488817e-02\n",
      " -7.79290279e-02 -8.39210687e-03  8.78607637e-02  4.35317719e-02]\n"
     ]
    }
   ],
   "source": [
    "print(ridge_fit.coef_)"
   ]
  },
  {
   "cell_type": "code",
   "execution_count": 20,
   "metadata": {},
   "outputs": [
    {
     "name": "stdout",
     "output_type": "stream",
     "text": [
      "Training error:  0.062363165042565026\n",
      "Testing error:  0.053946106337202246\n"
     ]
    }
   ],
   "source": [
    "train_predict = ridge_fit.predict(X_train)\n",
    "test_predict = ridge_fit.predict(X_test)\n",
    "mse_train = metrics.mean_squared_error(y_true=y_train, y_pred=train_predict)\n",
    "mse_test = metrics.mean_squared_error(y_true=y_test, y_pred=test_predict)\n",
    "print('Training error: ', mse_train)\n",
    "print('Testing error: ', mse_test)"
   ]
  },
  {
   "cell_type": "code",
   "execution_count": 21,
   "metadata": {},
   "outputs": [],
   "source": [
    "# use default alpha value to run lasso\n",
    "lasso = linear_model.Lasso()\n",
    "lasso_fit = lasso.fit(X_train, y_train)"
   ]
  },
  {
   "cell_type": "code",
   "execution_count": 22,
   "metadata": {},
   "outputs": [
    {
     "name": "stdout",
     "output_type": "stream",
     "text": [
      "[ 0.         -0.         -0.         -0.00245586 -0.          0.\n",
      "  0.          0.          0.          0.00019513  0.         -0.\n",
      " -0.         -0.         -0.          0.        ]\n"
     ]
    }
   ],
   "source": [
    "print(lasso_fit.coef_)"
   ]
  },
  {
   "cell_type": "code",
   "execution_count": 23,
   "metadata": {},
   "outputs": [
    {
     "name": "stdout",
     "output_type": "stream",
     "text": [
      "Training error:  0.2029599531228819\n",
      "Testing error:  0.34396782500778517\n"
     ]
    }
   ],
   "source": [
    "train_predict = lasso_fit.predict(X_train)\n",
    "test_predict = lasso_fit.predict(X_test)\n",
    "mse_train = metrics.mean_squared_error(y_true=y_train, y_pred=train_predict)\n",
    "mse_test = metrics.mean_squared_error(y_true=y_test, y_pred=test_predict)\n",
    "print('Training error: ', mse_train)\n",
    "print('Testing error: ', mse_test)"
   ]
  },
  {
   "cell_type": "code",
   "execution_count": 24,
   "metadata": {},
   "outputs": [],
   "source": [
    "# use cross validation to select optimal hyperparameter alpha for Ridge\n",
    "ridge_cv = linear_model.RidgeCV(alphas=[0.1, 0.5, 1.0, 5, 10.0], cv = 5)\n",
    "ridge_cv_fit = ridge_cv.fit(X_train, y_train)"
   ]
  },
  {
   "cell_type": "code",
   "execution_count": 25,
   "metadata": {},
   "outputs": [
    {
     "name": "stdout",
     "output_type": "stream",
     "text": [
      "5.0\n"
     ]
    }
   ],
   "source": [
    "# print out the best alpha\n",
    "print(ridge_cv_fit.alpha_)"
   ]
  },
  {
   "cell_type": "code",
   "execution_count": 26,
   "metadata": {},
   "outputs": [
    {
     "name": "stdout",
     "output_type": "stream",
     "text": [
      "[ 2.30013332e-03 -1.40690495e-01  9.20398277e-02 -1.04097475e-03\n",
      "  2.51579253e-02  1.12712565e-01  1.17787758e-01 -5.23840914e-02\n",
      "  2.09180333e-01  6.77849698e-05  1.51750086e-04 -6.03472162e-02\n",
      " -8.54312111e-02 -2.57770124e-02  7.40040791e-02  3.87117297e-02]\n"
     ]
    }
   ],
   "source": [
    "# run Ridge using the optimal lambda (alpha)\n",
    "ridge = linear_model.Ridge(alpha = 5)\n",
    "ridge_fit = ridge.fit(X_train, y_train)\n",
    "print(ridge_fit.coef_)"
   ]
  },
  {
   "cell_type": "code",
   "execution_count": 27,
   "metadata": {},
   "outputs": [
    {
     "name": "stdout",
     "output_type": "stream",
     "text": [
      "Training error:  0.06631664714550631\n",
      "Testing error:  0.04471550013962637\n"
     ]
    }
   ],
   "source": [
    "train_predict = ridge_fit.predict(X_train)\n",
    "test_predict = ridge_fit.predict(X_test)\n",
    "mse_train = metrics.mean_squared_error(y_true=y_train, y_pred=train_predict)\n",
    "mse_test = metrics.mean_squared_error(y_true=y_test, y_pred=test_predict)\n",
    "print('Training error: ', mse_train)\n",
    "print('Testing error: ', mse_test)"
   ]
  },
  {
   "cell_type": "code",
   "execution_count": 28,
   "metadata": {},
   "outputs": [],
   "source": [
    "# use cross validation to select optimal hyperparameter lambda (alpha in python) for Lasso\n",
    "lasso_cv = linear_model.LassoCV(alphas=[0.1, 0.5, 1.0, 5, 10.0], cv = 5)\n",
    "lasso_cv_fit = lasso_cv.fit(X_train, y_train)"
   ]
  },
  {
   "cell_type": "code",
   "execution_count": 29,
   "metadata": {},
   "outputs": [
    {
     "name": "stdout",
     "output_type": "stream",
     "text": [
      "0.1\n"
     ]
    }
   ],
   "source": [
    "# print out the best alpha\n",
    "print(lasso_cv_fit.alpha_)"
   ]
  },
  {
   "cell_type": "code",
   "execution_count": 30,
   "metadata": {},
   "outputs": [
    {
     "name": "stdout",
     "output_type": "stream",
     "text": [
      "[ 3.88412659e-03 -0.00000000e+00 -0.00000000e+00 -2.10446397e-03\n",
      " -0.00000000e+00  1.36920120e-01  0.00000000e+00  0.00000000e+00\n",
      "  0.00000000e+00  1.23450507e-04 -4.26660579e-04 -0.00000000e+00\n",
      " -4.32076003e-02 -0.00000000e+00  0.00000000e+00  0.00000000e+00]\n"
     ]
    }
   ],
   "source": [
    "# run Lasso using the optimal lambda (alpha)\n",
    "lasso = linear_model.Lasso(alpha = 0.1)\n",
    "lasso_fit = lasso.fit(X_train, y_train)\n",
    "print(lasso_fit.coef_)"
   ]
  },
  {
   "cell_type": "code",
   "execution_count": 31,
   "metadata": {},
   "outputs": [
    {
     "name": "stdout",
     "output_type": "stream",
     "text": [
      "Training error:  0.11400553738094515\n",
      "Testing error:  0.11538058330936944\n"
     ]
    }
   ],
   "source": [
    "train_predict = lasso_fit.predict(X_train)\n",
    "test_predict = lasso_fit.predict(X_test)\n",
    "mse_train = metrics.mean_squared_error(y_true=y_train, y_pred=train_predict)\n",
    "mse_test = metrics.mean_squared_error(y_true=y_test, y_pred=test_predict)\n",
    "print('Training error: ', mse_train)\n",
    "print('Testing error: ', mse_test)"
   ]
  },
  {
   "cell_type": "markdown",
   "metadata": {},
   "source": [
    "### Based on the results, we should go with Ridge with alpha = 5. Any insights?"
   ]
  }
 ],
 "metadata": {
  "kernelspec": {
   "display_name": "Python 3 (ipykernel)",
   "language": "python",
   "name": "python3"
  },
  "language_info": {
   "codemirror_mode": {
    "name": "ipython",
    "version": 3
   },
   "file_extension": ".py",
   "mimetype": "text/x-python",
   "name": "python",
   "nbconvert_exporter": "python",
   "pygments_lexer": "ipython3",
   "version": "3.9.12"
  }
 },
 "nbformat": 4,
 "nbformat_minor": 2
}
