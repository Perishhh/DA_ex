{
 "cells": [
  {
   "cell_type": "code",
   "execution_count": 1,
   "id": "ab3ade3e",
   "metadata": {},
   "outputs": [
    {
     "data": {
      "text/html": [
       "<div>\n",
       "<style scoped>\n",
       "    .dataframe tbody tr th:only-of-type {\n",
       "        vertical-align: middle;\n",
       "    }\n",
       "\n",
       "    .dataframe tbody tr th {\n",
       "        vertical-align: top;\n",
       "    }\n",
       "\n",
       "    .dataframe thead th {\n",
       "        text-align: right;\n",
       "    }\n",
       "</style>\n",
       "<table border=\"1\" class=\"dataframe\">\n",
       "  <thead>\n",
       "    <tr style=\"text-align: right;\">\n",
       "      <th></th>\n",
       "      <th>Purchase</th>\n",
       "      <th>WeekofPurchase</th>\n",
       "      <th>StoreID</th>\n",
       "      <th>PriceCH</th>\n",
       "      <th>PriceMM</th>\n",
       "      <th>DiscCH</th>\n",
       "      <th>DiscMM</th>\n",
       "      <th>SpecialCH</th>\n",
       "      <th>SpecialMM</th>\n",
       "      <th>LoyalCH</th>\n",
       "      <th>SalePriceMM</th>\n",
       "      <th>SalePriceCH</th>\n",
       "      <th>PriceDiff</th>\n",
       "      <th>Store7</th>\n",
       "      <th>PctDiscMM</th>\n",
       "      <th>PctDiscCH</th>\n",
       "      <th>ListPriceDiff</th>\n",
       "      <th>STORE</th>\n",
       "    </tr>\n",
       "  </thead>\n",
       "  <tbody>\n",
       "    <tr>\n",
       "      <th>0</th>\n",
       "      <td>CH</td>\n",
       "      <td>237</td>\n",
       "      <td>1</td>\n",
       "      <td>1.75</td>\n",
       "      <td>1.99</td>\n",
       "      <td>0.00</td>\n",
       "      <td>0.0</td>\n",
       "      <td>0</td>\n",
       "      <td>0</td>\n",
       "      <td>0.500000</td>\n",
       "      <td>1.99</td>\n",
       "      <td>1.75</td>\n",
       "      <td>0.24</td>\n",
       "      <td>No</td>\n",
       "      <td>0.000000</td>\n",
       "      <td>0.000000</td>\n",
       "      <td>0.24</td>\n",
       "      <td>1</td>\n",
       "    </tr>\n",
       "    <tr>\n",
       "      <th>1</th>\n",
       "      <td>CH</td>\n",
       "      <td>239</td>\n",
       "      <td>1</td>\n",
       "      <td>1.75</td>\n",
       "      <td>1.99</td>\n",
       "      <td>0.00</td>\n",
       "      <td>0.3</td>\n",
       "      <td>0</td>\n",
       "      <td>1</td>\n",
       "      <td>0.600000</td>\n",
       "      <td>1.69</td>\n",
       "      <td>1.75</td>\n",
       "      <td>-0.06</td>\n",
       "      <td>No</td>\n",
       "      <td>0.150754</td>\n",
       "      <td>0.000000</td>\n",
       "      <td>0.24</td>\n",
       "      <td>1</td>\n",
       "    </tr>\n",
       "    <tr>\n",
       "      <th>2</th>\n",
       "      <td>CH</td>\n",
       "      <td>245</td>\n",
       "      <td>1</td>\n",
       "      <td>1.86</td>\n",
       "      <td>2.09</td>\n",
       "      <td>0.17</td>\n",
       "      <td>0.0</td>\n",
       "      <td>0</td>\n",
       "      <td>0</td>\n",
       "      <td>0.680000</td>\n",
       "      <td>2.09</td>\n",
       "      <td>1.69</td>\n",
       "      <td>0.40</td>\n",
       "      <td>No</td>\n",
       "      <td>0.000000</td>\n",
       "      <td>0.091398</td>\n",
       "      <td>0.23</td>\n",
       "      <td>1</td>\n",
       "    </tr>\n",
       "    <tr>\n",
       "      <th>3</th>\n",
       "      <td>MM</td>\n",
       "      <td>227</td>\n",
       "      <td>1</td>\n",
       "      <td>1.69</td>\n",
       "      <td>1.69</td>\n",
       "      <td>0.00</td>\n",
       "      <td>0.0</td>\n",
       "      <td>0</td>\n",
       "      <td>0</td>\n",
       "      <td>0.400000</td>\n",
       "      <td>1.69</td>\n",
       "      <td>1.69</td>\n",
       "      <td>0.00</td>\n",
       "      <td>No</td>\n",
       "      <td>0.000000</td>\n",
       "      <td>0.000000</td>\n",
       "      <td>0.00</td>\n",
       "      <td>1</td>\n",
       "    </tr>\n",
       "    <tr>\n",
       "      <th>4</th>\n",
       "      <td>CH</td>\n",
       "      <td>228</td>\n",
       "      <td>7</td>\n",
       "      <td>1.69</td>\n",
       "      <td>1.69</td>\n",
       "      <td>0.00</td>\n",
       "      <td>0.0</td>\n",
       "      <td>0</td>\n",
       "      <td>0</td>\n",
       "      <td>0.956535</td>\n",
       "      <td>1.69</td>\n",
       "      <td>1.69</td>\n",
       "      <td>0.00</td>\n",
       "      <td>Yes</td>\n",
       "      <td>0.000000</td>\n",
       "      <td>0.000000</td>\n",
       "      <td>0.00</td>\n",
       "      <td>0</td>\n",
       "    </tr>\n",
       "    <tr>\n",
       "      <th>...</th>\n",
       "      <td>...</td>\n",
       "      <td>...</td>\n",
       "      <td>...</td>\n",
       "      <td>...</td>\n",
       "      <td>...</td>\n",
       "      <td>...</td>\n",
       "      <td>...</td>\n",
       "      <td>...</td>\n",
       "      <td>...</td>\n",
       "      <td>...</td>\n",
       "      <td>...</td>\n",
       "      <td>...</td>\n",
       "      <td>...</td>\n",
       "      <td>...</td>\n",
       "      <td>...</td>\n",
       "      <td>...</td>\n",
       "      <td>...</td>\n",
       "      <td>...</td>\n",
       "    </tr>\n",
       "    <tr>\n",
       "      <th>95</th>\n",
       "      <td>CH</td>\n",
       "      <td>277</td>\n",
       "      <td>2</td>\n",
       "      <td>1.99</td>\n",
       "      <td>2.18</td>\n",
       "      <td>0.00</td>\n",
       "      <td>0.0</td>\n",
       "      <td>0</td>\n",
       "      <td>0</td>\n",
       "      <td>0.600000</td>\n",
       "      <td>2.18</td>\n",
       "      <td>1.99</td>\n",
       "      <td>0.19</td>\n",
       "      <td>No</td>\n",
       "      <td>0.000000</td>\n",
       "      <td>0.000000</td>\n",
       "      <td>0.19</td>\n",
       "      <td>2</td>\n",
       "    </tr>\n",
       "    <tr>\n",
       "      <th>96</th>\n",
       "      <td>CH</td>\n",
       "      <td>277</td>\n",
       "      <td>7</td>\n",
       "      <td>1.99</td>\n",
       "      <td>2.13</td>\n",
       "      <td>0.50</td>\n",
       "      <td>0.0</td>\n",
       "      <td>0</td>\n",
       "      <td>1</td>\n",
       "      <td>0.400000</td>\n",
       "      <td>2.13</td>\n",
       "      <td>1.49</td>\n",
       "      <td>0.64</td>\n",
       "      <td>Yes</td>\n",
       "      <td>0.000000</td>\n",
       "      <td>0.251256</td>\n",
       "      <td>0.14</td>\n",
       "      <td>0</td>\n",
       "    </tr>\n",
       "    <tr>\n",
       "      <th>97</th>\n",
       "      <td>CH</td>\n",
       "      <td>227</td>\n",
       "      <td>2</td>\n",
       "      <td>1.69</td>\n",
       "      <td>1.69</td>\n",
       "      <td>0.00</td>\n",
       "      <td>0.0</td>\n",
       "      <td>0</td>\n",
       "      <td>0</td>\n",
       "      <td>0.744000</td>\n",
       "      <td>1.69</td>\n",
       "      <td>1.69</td>\n",
       "      <td>0.00</td>\n",
       "      <td>No</td>\n",
       "      <td>0.000000</td>\n",
       "      <td>0.000000</td>\n",
       "      <td>0.00</td>\n",
       "      <td>2</td>\n",
       "    </tr>\n",
       "    <tr>\n",
       "      <th>98</th>\n",
       "      <td>CH</td>\n",
       "      <td>229</td>\n",
       "      <td>2</td>\n",
       "      <td>1.69</td>\n",
       "      <td>1.69</td>\n",
       "      <td>0.00</td>\n",
       "      <td>0.0</td>\n",
       "      <td>0</td>\n",
       "      <td>0</td>\n",
       "      <td>0.795200</td>\n",
       "      <td>1.69</td>\n",
       "      <td>1.69</td>\n",
       "      <td>0.00</td>\n",
       "      <td>No</td>\n",
       "      <td>0.000000</td>\n",
       "      <td>0.000000</td>\n",
       "      <td>0.00</td>\n",
       "      <td>2</td>\n",
       "    </tr>\n",
       "    <tr>\n",
       "      <th>99</th>\n",
       "      <td>CH</td>\n",
       "      <td>234</td>\n",
       "      <td>2</td>\n",
       "      <td>1.69</td>\n",
       "      <td>1.99</td>\n",
       "      <td>0.00</td>\n",
       "      <td>0.0</td>\n",
       "      <td>0</td>\n",
       "      <td>0</td>\n",
       "      <td>0.836160</td>\n",
       "      <td>1.99</td>\n",
       "      <td>1.69</td>\n",
       "      <td>0.30</td>\n",
       "      <td>No</td>\n",
       "      <td>0.000000</td>\n",
       "      <td>0.000000</td>\n",
       "      <td>0.30</td>\n",
       "      <td>2</td>\n",
       "    </tr>\n",
       "  </tbody>\n",
       "</table>\n",
       "<p>100 rows × 18 columns</p>\n",
       "</div>"
      ],
      "text/plain": [
       "   Purchase  WeekofPurchase  StoreID  PriceCH  PriceMM  DiscCH  DiscMM  \\\n",
       "0        CH             237        1     1.75     1.99    0.00     0.0   \n",
       "1        CH             239        1     1.75     1.99    0.00     0.3   \n",
       "2        CH             245        1     1.86     2.09    0.17     0.0   \n",
       "3        MM             227        1     1.69     1.69    0.00     0.0   \n",
       "4        CH             228        7     1.69     1.69    0.00     0.0   \n",
       "..      ...             ...      ...      ...      ...     ...     ...   \n",
       "95       CH             277        2     1.99     2.18    0.00     0.0   \n",
       "96       CH             277        7     1.99     2.13    0.50     0.0   \n",
       "97       CH             227        2     1.69     1.69    0.00     0.0   \n",
       "98       CH             229        2     1.69     1.69    0.00     0.0   \n",
       "99       CH             234        2     1.69     1.99    0.00     0.0   \n",
       "\n",
       "    SpecialCH  SpecialMM   LoyalCH  SalePriceMM  SalePriceCH  PriceDiff  \\\n",
       "0           0          0  0.500000         1.99         1.75       0.24   \n",
       "1           0          1  0.600000         1.69         1.75      -0.06   \n",
       "2           0          0  0.680000         2.09         1.69       0.40   \n",
       "3           0          0  0.400000         1.69         1.69       0.00   \n",
       "4           0          0  0.956535         1.69         1.69       0.00   \n",
       "..        ...        ...       ...          ...          ...        ...   \n",
       "95          0          0  0.600000         2.18         1.99       0.19   \n",
       "96          0          1  0.400000         2.13         1.49       0.64   \n",
       "97          0          0  0.744000         1.69         1.69       0.00   \n",
       "98          0          0  0.795200         1.69         1.69       0.00   \n",
       "99          0          0  0.836160         1.99         1.69       0.30   \n",
       "\n",
       "   Store7  PctDiscMM  PctDiscCH  ListPriceDiff  STORE  \n",
       "0      No   0.000000   0.000000           0.24      1  \n",
       "1      No   0.150754   0.000000           0.24      1  \n",
       "2      No   0.000000   0.091398           0.23      1  \n",
       "3      No   0.000000   0.000000           0.00      1  \n",
       "4     Yes   0.000000   0.000000           0.00      0  \n",
       "..    ...        ...        ...            ...    ...  \n",
       "95     No   0.000000   0.000000           0.19      2  \n",
       "96    Yes   0.000000   0.251256           0.14      0  \n",
       "97     No   0.000000   0.000000           0.00      2  \n",
       "98     No   0.000000   0.000000           0.00      2  \n",
       "99     No   0.000000   0.000000           0.30      2  \n",
       "\n",
       "[100 rows x 18 columns]"
      ]
     },
     "execution_count": 1,
     "metadata": {},
     "output_type": "execute_result"
    }
   ],
   "source": [
    "from sklearn.model_selection import train_test_split # this function provides a single \"Hold-Out\" Validation.\n",
    "import matplotlib.pyplot as plt\n",
    "from sklearn.metrics import accuracy_score #similar to MAE, we use accuracy_score evaluation metric.\n",
    "import pandas as pd\n",
    "import numpy as np\n",
    "\n",
    "data = pd.read_csv('OJ.csv',header='infer')\n",
    "data.head(100)"
   ]
  },
  {
   "cell_type": "code",
   "execution_count": 2,
   "id": "dadce2dd",
   "metadata": {},
   "outputs": [
    {
     "data": {
      "text/plain": [
       "Purchase           object\n",
       "WeekofPurchase      int64\n",
       "StoreID             int64\n",
       "PriceCH           float64\n",
       "PriceMM           float64\n",
       "DiscCH            float64\n",
       "DiscMM            float64\n",
       "SpecialCH           int64\n",
       "SpecialMM           int64\n",
       "LoyalCH           float64\n",
       "SalePriceMM       float64\n",
       "SalePriceCH       float64\n",
       "PriceDiff         float64\n",
       "Store7             object\n",
       "PctDiscMM         float64\n",
       "PctDiscCH         float64\n",
       "ListPriceDiff     float64\n",
       "STORE               int64\n",
       "dtype: object"
      ]
     },
     "execution_count": 2,
     "metadata": {},
     "output_type": "execute_result"
    }
   ],
   "source": [
    "data.dtypes"
   ]
  },
  {
   "cell_type": "code",
   "execution_count": 3,
   "id": "d3c999dd",
   "metadata": {},
   "outputs": [
    {
     "data": {
      "text/plain": [
       "Purchase           object\n",
       "WeekofPurchase      int64\n",
       "StoreID             int64\n",
       "PriceCH           float64\n",
       "PriceMM           float64\n",
       "DiscCH            float64\n",
       "DiscMM            float64\n",
       "SpecialCH           int64\n",
       "SpecialMM           int64\n",
       "LoyalCH           float64\n",
       "SalePriceMM       float64\n",
       "SalePriceCH       float64\n",
       "PriceDiff         float64\n",
       "Store7              int32\n",
       "PctDiscMM         float64\n",
       "PctDiscCH         float64\n",
       "ListPriceDiff     float64\n",
       "STORE               int64\n",
       "dtype: object"
      ]
     },
     "execution_count": 3,
     "metadata": {},
     "output_type": "execute_result"
    }
   ],
   "source": [
    "data['Store7'] = data['Store7'].apply(lambda x: True if x == 'Yes' else False)\n",
    "data\n",
    "data['Store7']=data['Store7'].astype(int)\n",
    "data.dtypes"
   ]
  },
  {
   "cell_type": "code",
   "execution_count": 4,
   "id": "f9926cad",
   "metadata": {},
   "outputs": [],
   "source": [
    "#1\n",
    "Y = data['Purchase'] #this is our prediction target\n",
    "X = data.drop(['Purchase'],axis=1)\n",
    "X_train, X_test, Y_train, Y_test = train_test_split(X, Y, test_size=0.2, random_state=2022) "
   ]
  },
  {
   "cell_type": "code",
   "execution_count": 5,
   "id": "9b34ea9f",
   "metadata": {},
   "outputs": [
    {
     "name": "stdout",
     "output_type": "stream",
     "text": [
      "0.010514018691588745\n",
      "379\n"
     ]
    }
   ],
   "source": [
    "from sklearn.tree import DecisionTreeClassifier, export_graphviz\n",
    "tree = DecisionTreeClassifier()\n",
    "tree.fit(X_train, Y_train)\n",
    "Y_pred = tree.predict(X_train)\n",
    "training_error_rate = 1 - accuracy_score(Y_train, Y_pred)\n",
    "# Number of terminal nodes can be obtained using tree.tree_.node_count attribute\n",
    "num_terminal_nodes = tree.tree_.node_count\n",
    "#2\n",
    "print(training_error_rate)\n",
    "print(num_terminal_nodes)"
   ]
  },
  {
   "cell_type": "code",
   "execution_count": 6,
   "id": "377c5375",
   "metadata": {},
   "outputs": [
    {
     "name": "stderr",
     "output_type": "stream",
     "text": [
      "dot: graph is too large for cairo-renderer bitmaps. Scaling by 0.928217 to fit\r\n"
     ]
    },
    {
     "data": {
      "text/plain": [
       "'OJ_desision_tree1.png'"
      ]
     },
     "execution_count": 6,
     "metadata": {},
     "output_type": "execute_result"
    }
   ],
   "source": [
    "#3\n",
    "import graphviz\n",
    "dot_data = export_graphviz(tree,out_file=None,feature_names = X_train.columns,\n",
    "                            class_names = tree.classes_,filled=True,rounded = True,\n",
    "                            leaves_parallel=True,proportion=True)\n",
    "graph = graphviz.Source(dot_data)\n",
    "graph.format = 'png'\n",
    "graph.render(\"OJ_desision_tree1\",view=True)\n",
    "\n",
    "#interpet the tree graph...\n",
    "#first split variables are LoyalCH, gini, samples, value and class."
   ]
  },
  {
   "cell_type": "code",
   "execution_count": 7,
   "id": "e990f9f0",
   "metadata": {},
   "outputs": [
    {
     "name": "stdout",
     "output_type": "stream",
     "text": [
      "0.23831775700934577\n"
     ]
    },
    {
     "data": {
      "image/png": "[encoded data removed]",
      "text/plain": [
       "<Figure size 432x288 with 2 Axes>"
      ]
     },
     "metadata": {
      "needs_background": "light"
     },
     "output_type": "display_data"
    }
   ],
   "source": [
    "#4\n",
    "from sklearn.metrics import confusion_matrix,ConfusionMatrixDisplay\n",
    "Y_predTest = tree.predict(X_test)\n",
    "test_error_rate = 1 - accuracy_score(Y_test, Y_predTest)\n",
    "print(test_error_rate)\n",
    "cm = confusion_matrix(Y_test, Y_predTest, labels=tree.classes_)\n",
    "disp = ConfusionMatrixDisplay(confusion_matrix = cm, display_labels = tree.classes_)\n",
    "disp.plot()\n",
    "plt.show()"
   ]
  },
  {
   "cell_type": "code",
   "execution_count": 8,
   "id": "cdfc1199",
   "metadata": {},
   "outputs": [
    {
     "data": {
      "text/plain": [
       "[<matplotlib.lines.Line2D at 0x2607ce3ec70>]"
      ]
     },
     "execution_count": 8,
     "metadata": {},
     "output_type": "execute_result"
    },
    {
     "data": {
      "image/png": "[encoded data removed]",
      "text/plain": [
       "<Figure size 432x288 with 1 Axes>"
      ]
     },
     "metadata": {
      "needs_background": "light"
     },
     "output_type": "display_data"
    }
   ],
   "source": [
    "#5\n",
    "from sklearn.model_selection import cross_val_score\n",
    "x_point = []\n",
    "y_point = []\n",
    "for i in range(1,10):\n",
    "    max_depth = i\n",
    "    x_point.append(i)\n",
    "    tree = DecisionTreeClassifier(max_depth = max_depth)\n",
    "    scores = cross_val_score(tree, X, Y, cv=5)\n",
    "    y_point.append(scores.mean())\n",
    "plt.plot(x_point,y_point)\n",
    "#max_depths = 1是最好的,再增大会导致过拟合"
   ]
  },
  {
   "cell_type": "code",
   "execution_count": 9,
   "id": "5aed8481",
   "metadata": {},
   "outputs": [
    {
     "name": "stdout",
     "output_type": "stream",
     "text": [
      "0.2009345794392523\n"
     ]
    },
    {
     "data": {
      "image/png": "[encoded data removed]",
      "text/plain": [
       "<Figure size 432x288 with 2 Axes>"
      ]
     },
     "metadata": {
      "needs_background": "light"
     },
     "output_type": "display_data"
    }
   ],
   "source": [
    "#6\n",
    "tree = DecisionTreeClassifier(max_depth = 1)\n",
    "tree.fit(X_train, Y_train)\n",
    "Y_predTest = tree.predict(X_test)\n",
    "test_error_rate = 1 - accuracy_score(Y_test, Y_predTest)\n",
    "print(test_error_rate)\n",
    "cm = confusion_matrix(Y_test, Y_predTest, labels=tree.classes_)\n",
    "disp = ConfusionMatrixDisplay(confusion_matrix = cm, display_labels = tree.classes_)\n",
    "disp.plot()\n",
    "plt.show()\n",
    "#this one is better"
   ]
  },
  {
   "cell_type": "code",
   "execution_count": 10,
   "id": "63e13ed7",
   "metadata": {},
   "outputs": [
    {
     "data": {
      "text/plain": [
       "'OJ_desision_tree2.png'"
      ]
     },
     "execution_count": 10,
     "metadata": {},
     "output_type": "execute_result"
    }
   ],
   "source": [
    "dot_data = export_graphviz(tree,out_file=None,feature_names = X_train.columns,\n",
    "                            class_names = tree.classes_,filled=True,rounded = True,\n",
    "                            leaves_parallel=True,proportion=True)\n",
    "graph = graphviz.Source(dot_data)\n",
    "graph.format = 'png'\n",
    "graph.render(\"OJ_desision_tree2\",view=True)"
   ]
  },
  {
   "cell_type": "code",
   "execution_count": 11,
   "id": "ab6d79f5",
   "metadata": {},
   "outputs": [
    {
     "name": "stdout",
     "output_type": "stream",
     "text": [
      "1. feature 8 (1.000000)\n",
      "LoyalCH\n",
      "2. feature 7 (0.000000)\n",
      "SpecialMM\n",
      "3. feature 1 (0.000000)\n",
      "StoreID\n",
      "4. feature 2 (0.000000)\n",
      "PriceCH\n",
      "5. feature 3 (0.000000)\n",
      "PriceMM\n",
      "6. feature 4 (0.000000)\n",
      "DiscCH\n",
      "7. feature 5 (0.000000)\n",
      "DiscMM\n",
      "8. feature 6 (0.000000)\n",
      "SpecialCH\n",
      "9. feature 16 (0.000000)\n",
      "STORE\n",
      "10. feature 15 (0.000000)\n",
      "ListPriceDiff\n",
      "11. feature 9 (0.000000)\n",
      "SalePriceMM\n",
      "12. feature 10 (0.000000)\n",
      "SalePriceCH\n",
      "13. feature 11 (0.000000)\n",
      "PriceDiff\n",
      "14. feature 12 (0.000000)\n",
      "Store7\n",
      "15. feature 13 (0.000000)\n",
      "PctDiscMM\n",
      "16. feature 14 (0.000000)\n",
      "PctDiscCH\n",
      "17. feature 0 (0.000000)\n",
      "WeekofPurchase\n"
     ]
    }
   ],
   "source": [
    "#7\n",
    "importance = tree.feature_importances_\n",
    "feature_names = X_train.columns\n",
    "indices = np.argsort(importance)[::-1]\n",
    "for f in range(X.shape[1]):\n",
    "    print(\"%d. feature %d (%f)\" % (f + 1, indices[f], importance[indices[f]]))\n",
    "    print(feature_names[indices[f]])"
   ]
  },
  {
   "cell_type": "code",
   "execution_count": null,
   "id": "7b2a9798",
   "metadata": {},
   "outputs": [],
   "source": []
  },
  {
   "cell_type": "code",
   "execution_count": null,
   "id": "cf6b6faa",
   "metadata": {},
   "outputs": [],
   "source": []
  }
 ],
 "metadata": {
  "kernelspec": {
   "display_name": "Python 3 (ipykernel)",
   "language": "python",
   "name": "python3"
  },
  "language_info": {
   "codemirror_mode": {
    "name": "ipython",
    "version": 3
   },
   "file_extension": ".py",
   "mimetype": "text/x-python",
   "name": "python",
   "nbconvert_exporter": "python",
   "pygments_lexer": "ipython3",
   "version": "3.9.12"
  }
 },
 "nbformat": 4,
 "nbformat_minor": 5
}
