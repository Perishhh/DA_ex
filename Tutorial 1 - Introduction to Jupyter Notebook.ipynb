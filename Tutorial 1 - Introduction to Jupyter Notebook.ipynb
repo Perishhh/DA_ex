{
 "cells": [
  {
   "cell_type": "markdown",
   "metadata": {},
   "source": [
    "# Introduction to Jupyter Notebook"
   ]
  },
  {
   "cell_type": "markdown",
   "metadata": {},
   "source": [
    "## 1. Python fundmentals"
   ]
  },
  {
   "cell_type": "code",
   "execution_count": 1,
   "metadata": {},
   "outputs": [
    {
     "name": "stdout",
     "output_type": "stream",
     "text": [
      "Hello IS6400\n"
     ]
    }
   ],
   "source": [
    "print(\"Hello IS6400\")"
   ]
  },
  {
   "cell_type": "code",
   "execution_count": 2,
   "metadata": {},
   "outputs": [
    {
     "name": "stdout",
     "output_type": "stream",
     "text": [
      "11\n"
     ]
    }
   ],
   "source": [
    "a = 1+2\n",
    "b = 2**3 # 2^3\n",
    "c = a + b\n",
    "print(c)"
   ]
  },
  {
   "cell_type": "markdown",
   "metadata": {},
   "source": [
    "#### NumPy is a library used for large, multi-dimensional arrays and matrices, along with a large collection of high-level mathematical functions to operate on these arrays."
   ]
  },
  {
   "cell_type": "code",
   "execution_count": 3,
   "metadata": {},
   "outputs": [
    {
     "name": "stdout",
     "output_type": "stream",
     "text": [
      "7.38905609893065\n"
     ]
    }
   ],
   "source": [
    "import numpy as np\n",
    "# e^2\n",
    "d = np.exp(2)\n",
    "print(d)"
   ]
  },
  {
   "cell_type": "markdown",
   "metadata": {},
   "source": [
    "#### OS library provides a portable way of using operating system dependent functionality."
   ]
  },
  {
   "cell_type": "code",
   "execution_count": 4,
   "metadata": {},
   "outputs": [
    {
     "data": {
      "text/plain": [
       "'C:\\\\Users\\\\user\\\\OneDrive - City University of Hong Kong\\\\IS6400'"
      ]
     },
     "execution_count": 4,
     "metadata": {},
     "output_type": "execute_result"
    }
   ],
   "source": [
    "# check the current working directory\n",
    "import os\n",
    "os.getcwd()"
   ]
  },
  {
   "cell_type": "code",
   "execution_count": 5,
   "metadata": {},
   "outputs": [
    {
     "ename": "FileNotFoundError",
     "evalue": "[WinError 2] The system cannot find the file specified: 'path to the directory'",
     "output_type": "error",
     "traceback": [
      "\u001b[1;31m---------------------------------------------------------------------------\u001b[0m",
      "\u001b[1;31mFileNotFoundError\u001b[0m                         Traceback (most recent call last)",
      "\u001b[1;32m~\\AppData\\Local\\Temp/ipykernel_6232/344786484.py\u001b[0m in \u001b[0;36m<module>\u001b[1;34m\u001b[0m\n\u001b[0;32m      1\u001b[0m \u001b[1;31m# if you would like to change your directory, use os.chdir()\u001b[0m\u001b[1;33m\u001b[0m\u001b[1;33m\u001b[0m\u001b[0m\n\u001b[1;32m----> 2\u001b[1;33m \u001b[0mos\u001b[0m\u001b[1;33m.\u001b[0m\u001b[0mchdir\u001b[0m\u001b[1;33m(\u001b[0m\u001b[1;34m\"path to the directory\"\u001b[0m\u001b[1;33m)\u001b[0m\u001b[1;33m\u001b[0m\u001b[1;33m\u001b[0m\u001b[0m\n\u001b[0m",
      "\u001b[1;31mFileNotFoundError\u001b[0m: [WinError 2] The system cannot find the file specified: 'path to the directory'"
     ]
    }
   ],
   "source": [
    "# if you would like to change your directory, use os.chdir()\n",
    "os.chdir(\"path to the directory\")"
   ]
  },
  {
   "cell_type": "markdown",
   "metadata": {},
   "source": [
    "#### Pandas is a library used for data manipulation and analysis. In particular, it offers data structures and operations for manipulating numerical tables and time series."
   ]
  },
  {
   "cell_type": "code",
   "execution_count": 1,
   "metadata": {},
   "outputs": [],
   "source": [
    "# import data using pandas package\n",
    "import pandas as pd\n",
    "crash = pd.read_csv(\"austin_crash.csv\")"
   ]
  },
  {
   "cell_type": "markdown",
   "metadata": {},
   "source": [
    "## 2. Simple data manipulations"
   ]
  },
  {
   "cell_type": "code",
   "execution_count": 2,
   "metadata": {},
   "outputs": [
    {
     "name": "stdout",
     "output_type": "stream",
     "text": [
      "(32859, 15)\n"
     ]
    }
   ],
   "source": [
    "# print dimension of our data\n",
    "print(crash.shape)"
   ]
  },
  {
   "cell_type": "code",
   "execution_count": 3,
   "metadata": {},
   "outputs": [
    {
     "name": "stdout",
     "output_type": "stream",
     "text": [
      "   Crash_ID    Make  Model_Year  Body_Style  Age  Gender  Total_Injury  Death  \\\n",
      "0  15305026    Ford      2015.0      Pickup   43    Male             0      0   \n",
      "1  15305026    Ford      2015.0      Pickup   30    Male             0      0   \n",
      "2  15636003  Nissan      2015.0  Car 4 door   27    Male             1      0   \n",
      "3  15636003  Nissan      2015.0  Car 4 door   21  Female             1      0   \n",
      "4  15636003  Nissan      2015.0  Car 4 door   69  Female             1      0   \n",
      "\n",
      "  Crash_Date  Crash_Year  Crash_Month  Crash_Week_Day Crash_Time   Latitude  \\\n",
      "0     9/3/16        2016            9               6   12:00 AM  30.167140   \n",
      "1     9/3/16        2016            9               6   12:00 AM  30.167140   \n",
      "2     3/8/17        2017            3               3    3:00 PM  30.426613   \n",
      "3     3/8/17        2017            3               3    3:00 PM  30.426613   \n",
      "4     3/8/17        2017            3               3    3:00 PM  30.426613   \n",
      "\n",
      "   Longitude  \n",
      "0  -97.79110  \n",
      "1  -97.79110  \n",
      "2  -97.67604  \n",
      "3  -97.67604  \n",
      "4  -97.67604  \n"
     ]
    }
   ],
   "source": [
    "# print out first 5 rows of the data\n",
    "print(crash.head())"
   ]
  },
  {
   "cell_type": "code",
   "execution_count": 8,
   "metadata": {},
   "outputs": [
    {
     "name": "stdout",
     "output_type": "stream",
     "text": [
      "0          Ford\n",
      "1          Ford\n",
      "2        Nissan\n",
      "3        Nissan\n",
      "4        Nissan\n",
      "          ...  \n",
      "32854    Toyota\n",
      "32855     Honda\n",
      "32856     Honda\n",
      "32857      Ford\n",
      "32858      Ford\n",
      "Name: Make, Length: 32859, dtype: object\n"
     ]
    }
   ],
   "source": [
    "# check the column of Make\n",
    "print(crash['Make'])"
   ]
  },
  {
   "cell_type": "code",
   "execution_count": 9,
   "metadata": {},
   "outputs": [
    {
     "name": "stdout",
     "output_type": "stream",
     "text": [
      "       Age  Gender\n",
      "0       43    Male\n",
      "1       30    Male\n",
      "2       27    Male\n",
      "3       21  Female\n",
      "4       69  Female\n",
      "...    ...     ...\n",
      "32854   28    Male\n",
      "32855   32    Male\n",
      "32856   42    Male\n",
      "32857   29    Male\n",
      "32858   27  Female\n",
      "\n",
      "[32859 rows x 2 columns]\n"
     ]
    }
   ],
   "source": [
    "# check the columns of Age and Gender\n",
    "print(crash[['Age','Gender']])"
   ]
  },
  {
   "cell_type": "markdown",
   "metadata": {},
   "source": [
    "## 3. Data exploration"
   ]
  },
  {
   "cell_type": "code",
   "execution_count": 10,
   "metadata": {},
   "outputs": [
    {
     "name": "stdout",
     "output_type": "stream",
     "text": [
      "Gender\n",
      "Female     13735\n",
      "Male       19050\n",
      "Unknown       74\n",
      "Name: Crash_ID, dtype: int64\n"
     ]
    },
    {
     "data": {
      "text/plain": [
       "<AxesSubplot:ylabel='Count'>"
      ]
     },
     "execution_count": 10,
     "metadata": {},
     "output_type": "execute_result"
    },
    {
     "data": {
      "image/png": "[encoded data removed]",
      "text/plain": [
       "<Figure size 432x288 with 1 Axes>"
      ]
     },
     "metadata": {},
     "output_type": "display_data"
    }
   ],
   "source": [
    "# how many are male / female drivers who were involved in accidents? \n",
    "crash_by_gender = crash.groupby('Gender')['Crash_ID'].count()\n",
    "print(crash_by_gender)\n",
    "crash_by_gender.plot.pie(ylabel = 'Count')"
   ]
  },
  {
   "cell_type": "code",
   "execution_count": 11,
   "metadata": {},
   "outputs": [
    {
     "name": "stdout",
     "output_type": "stream",
     "text": [
      "Crash_Month\n",
      "1     1095\n",
      "2      945\n",
      "3      264\n",
      "4      445\n",
      "5      330\n",
      "6      903\n",
      "7     4491\n",
      "8     7273\n",
      "9     4560\n",
      "10    4694\n",
      "11    4058\n",
      "12    3801\n",
      "Name: Crash_ID, dtype: int64\n"
     ]
    },
    {
     "data": {
      "text/plain": [
       "<AxesSubplot:xlabel='Crash_Month'>"
      ]
     },
     "execution_count": 11,
     "metadata": {},
     "output_type": "execute_result"
    },
    {
     "data": {
      "image/png": "[encoded data removed]",
      "text/plain": [
       "<Figure size 432x288 with 1 Axes>"
      ]
     },
     "metadata": {
      "needs_background": "light"
     },
     "output_type": "display_data"
    }
   ],
   "source": [
    "# what is the trend of number of accidents in different months?\n",
    "crash_by_month = crash.groupby('Crash_Month')['Crash_ID'].count()\n",
    "print(crash_by_month)\n",
    "crash_by_month.plot.line()"
   ]
  },
  {
   "cell_type": "code",
   "execution_count": 12,
   "metadata": {},
   "outputs": [
    {
     "data": {
      "text/plain": [
       "count    32859.000000\n",
       "mean        37.061170\n",
       "std         14.930789\n",
       "min         16.000000\n",
       "25%         25.000000\n",
       "50%         34.000000\n",
       "75%         46.000000\n",
       "max        117.000000\n",
       "Name: Age, dtype: float64"
      ]
     },
     "execution_count": 12,
     "metadata": {},
     "output_type": "execute_result"
    }
   ],
   "source": [
    "# check the statistics summary of the numeric variable Age\n",
    "crash['Age'].describe()"
   ]
  },
  {
   "cell_type": "code",
   "execution_count": 13,
   "metadata": {},
   "outputs": [
    {
     "data": {
      "text/plain": [
       "<AxesSubplot:>"
      ]
     },
     "execution_count": 13,
     "metadata": {},
     "output_type": "execute_result"
    },
    {
     "data": {
      "image/png": "[encoded data removed]",
      "text/plain": [
       "<Figure size 432x288 with 1 Axes>"
      ]
     },
     "metadata": {
      "needs_background": "light"
     },
     "output_type": "display_data"
    }
   ],
   "source": [
    "# get boxplot of Age\n",
    "crash.boxplot('Age')"
   ]
  },
  {
   "cell_type": "code",
   "execution_count": 15,
   "metadata": {},
   "outputs": [
    {
     "data": {
      "text/plain": [
       "array([[<AxesSubplot:title={'center':'Age'}>]], dtype=object)"
      ]
     },
     "execution_count": 15,
     "metadata": {},
     "output_type": "execute_result"
    },
    {
     "data": {
      "image/png": "[encoded data removed]",
      "text/plain": [
       "<Figure size 432x288 with 1 Axes>"
      ]
     },
     "metadata": {
      "needs_background": "light"
     },
     "output_type": "display_data"
    }
   ],
   "source": [
    "crash.hist('Age', bins = 100)"
   ]
  },
  {
   "cell_type": "code",
   "execution_count": 16,
   "metadata": {},
   "outputs": [],
   "source": [
    "# remove outliers in Age above 80\n",
    "crash_clean = crash.loc[crash['Age'] < 80]"
   ]
  },
  {
   "cell_type": "code",
   "execution_count": 17,
   "metadata": {},
   "outputs": [
    {
     "data": {
      "text/plain": [
       "array([[<AxesSubplot:title={'center':'Age'}>]], dtype=object)"
      ]
     },
     "execution_count": 17,
     "metadata": {},
     "output_type": "execute_result"
    },
    {
     "data": {
      "image/png": "[encoded data removed]",
      "text/plain": [
       "<Figure size 432x288 with 1 Axes>"
      ]
     },
     "metadata": {
      "needs_background": "light"
     },
     "output_type": "display_data"
    }
   ],
   "source": [
    "# check distribution again\n",
    "crash_clean.hist('Age', bins = 100)"
   ]
  },
  {
   "cell_type": "code",
   "execution_count": 18,
   "metadata": {},
   "outputs": [
    {
     "name": "stderr",
     "output_type": "stream",
     "text": [
      "C:\\Users\\user\\AppData\\Local\\Temp/ipykernel_880/3848697252.py:2: SettingWithCopyWarning: \n",
      "A value is trying to be set on a copy of a slice from a DataFrame.\n",
      "Try using .loc[row_indexer,col_indexer] = value instead\n",
      "\n",
      "See the caveats in the documentation: https://pandas.pydata.org/pandas-docs/stable/user_guide/indexing.html#returning-a-view-versus-a-copy\n",
      "  crash_clean['log_Age'] = np.log(crash_clean['Age'])\n"
     ]
    }
   ],
   "source": [
    "# still a little bit right skewed, let's take log\n",
    "crash_clean['log_Age'] = np.log(crash_clean['Age'])"
   ]
  },
  {
   "cell_type": "code",
   "execution_count": 19,
   "metadata": {},
   "outputs": [
    {
     "name": "stdout",
     "output_type": "stream",
     "text": [
      "count    32606.000000\n",
      "mean         3.528658\n",
      "std          0.382798\n",
      "min          2.772589\n",
      "25%          3.218876\n",
      "50%          3.496508\n",
      "75%          3.828641\n",
      "max          4.369448\n",
      "Name: log_Age, dtype: float64\n"
     ]
    },
    {
     "data": {
      "text/plain": [
       "array([[<AxesSubplot:title={'center':'log_Age'}>]], dtype=object)"
      ]
     },
     "execution_count": 19,
     "metadata": {},
     "output_type": "execute_result"
    },
    {
     "data": {
      "image/png": "[encoded data removed]",
      "text/plain": [
       "<Figure size 432x288 with 1 Axes>"
      ]
     },
     "metadata": {
      "needs_background": "light"
     },
     "output_type": "display_data"
    }
   ],
   "source": [
    "print(crash_clean['log_Age'].describe())\n",
    "crash_clean.hist('log_Age', bins = 100)"
   ]
  },
  {
   "cell_type": "markdown",
   "metadata": {},
   "source": [
    "## Assignment 1 (10 points):\n",
    "### Please complete the following questions using this jupyter notebook, SAVE it as HTML and upload to canvas (File -> Download as -> HTML). This assignment will be due in two weeks. \n",
    "\n",
    "#### (1) (2 points) Import `load_summer.csv` and print out the first 5 rows of the data. Make sure the `load_summer.csv` is stored in your current working directory. \n",
    "#### (2) (2 points) Print out the summary statistics of the variable COAST. \n",
    "#### (3) (2 points) Plot a histogram of the variable COAST. Set bins = 100.\n",
    "#### (4) (4 points) Plot the trend of the average COAST over hour. Hint: First apply `groupby()` function and `mean()` function to get average value of COAST over hour. Then apply `plot.line()`."
   ]
  },
  {
   "cell_type": "code",
   "execution_count": null,
   "metadata": {},
   "outputs": [],
   "source": []
  }
 ],
 "metadata": {
  "kernelspec": {
   "display_name": "Python 3 (ipykernel)",
   "language": "python",
   "name": "python3"
  },
  "language_info": {
   "codemirror_mode": {
    "name": "ipython",
    "version": 3
   },
   "file_extension": ".py",
   "mimetype": "text/x-python",
   "name": "python",
   "nbconvert_exporter": "python",
   "pygments_lexer": "ipython3",
   "version": "3.9.12"
  }
 },
 "nbformat": 4,
 "nbformat_minor": 2
}
